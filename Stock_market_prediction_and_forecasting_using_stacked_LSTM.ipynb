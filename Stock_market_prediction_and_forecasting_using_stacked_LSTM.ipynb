{
  "nbformat": 4,
  "nbformat_minor": 0,
  "metadata": {
    "colab": {
      "name": "Stock market prediction and forecasting using stacked LSTM.ipynb",
      "provenance": [],
      "collapsed_sections": [],
      "authorship_tag": "ABX9TyOBYJGESOSX8kN45xLN8kXs",
      "include_colab_link": true
    },
    "kernelspec": {
      "name": "python3",
      "display_name": "Python 3"
    },
    "language_info": {
      "name": "python"
    }
  },
  "cells": [
    {
      "cell_type": "markdown",
      "metadata": {
        "id": "view-in-github",
        "colab_type": "text"
      },
      "source": [
        "<a href=\"https://colab.research.google.com/github/NareshS-100/LGMVIP-Data-Science-Task-2/blob/main/Stock_market_prediction_and_forecasting_using_stacked_LSTM.ipynb\" target=\"_parent\"><img src=\"https://colab.research.google.com/assets/colab-badge.svg\" alt=\"Open In Colab\"/></a>"
      ]
    },
    {
      "cell_type": "markdown",
      "metadata": {
        "id": "NnFp4Uw7Hi7s"
      },
      "source": [
        "# **LETSGROWMORE**\n",
        "# **Data Science**\n",
        "# **Name : Naresh S**\n",
        "# **Task 2 : Stock Market Prediction And Forecasting Using Stacked LSTM**"
      ]
    },
    {
      "cell_type": "code",
      "metadata": {
        "id": "FPdNNFB_Cjgf"
      },
      "source": [
        "from google.colab import drive"
      ],
      "execution_count": null,
      "outputs": []
    },
    {
      "cell_type": "code",
      "metadata": {
        "colab": {
          "base_uri": "https://localhost:8080/"
        },
        "id": "WOa7Ee80C6j4",
        "outputId": "54999f7a-6491-4cb6-a214-be37aa4c69d7"
      },
      "source": [
        "drive.mount('/content/drive')"
      ],
      "execution_count": null,
      "outputs": [
        {
          "output_type": "stream",
          "name": "stdout",
          "text": [
            "Mounted at /content/drive\n"
          ]
        }
      ]
    },
    {
      "cell_type": "markdown",
      "metadata": {
        "id": "7L9OmX1WIfcu"
      },
      "source": [
        "**Import Libraries**"
      ]
    },
    {
      "cell_type": "code",
      "metadata": {
        "id": "5na7VkWRC-NP"
      },
      "source": [
        "import numpy as np\n",
        "import pandas as pd\n",
        "import matplotlib.pyplot as plt\n",
        "from matplotlib import rcParams"
      ],
      "execution_count": null,
      "outputs": []
    },
    {
      "cell_type": "code",
      "metadata": {
        "id": "S1KX5zzxDNCE"
      },
      "source": [
        "data = pd.read_csv('/content/drive/MyDrive/LGM VIP TASK 2/stock market data set.csv')"
      ],
      "execution_count": null,
      "outputs": []
    },
    {
      "cell_type": "code",
      "metadata": {
        "colab": {
          "base_uri": "https://localhost:8080/",
          "height": 204
        },
        "id": "xA4OyUBIDg2e",
        "outputId": "020464a5-c81f-47e5-c010-ab77531aaf30"
      },
      "source": [
        "data.head()"
      ],
      "execution_count": null,
      "outputs": [
        {
          "output_type": "execute_result",
          "data": {
            "text/html": [
              "<div>\n",
              "<style scoped>\n",
              "    .dataframe tbody tr th:only-of-type {\n",
              "        vertical-align: middle;\n",
              "    }\n",
              "\n",
              "    .dataframe tbody tr th {\n",
              "        vertical-align: top;\n",
              "    }\n",
              "\n",
              "    .dataframe thead th {\n",
              "        text-align: right;\n",
              "    }\n",
              "</style>\n",
              "<table border=\"1\" class=\"dataframe\">\n",
              "  <thead>\n",
              "    <tr style=\"text-align: right;\">\n",
              "      <th></th>\n",
              "      <th>Date</th>\n",
              "      <th>Open</th>\n",
              "      <th>High</th>\n",
              "      <th>Low</th>\n",
              "      <th>Last</th>\n",
              "      <th>Close</th>\n",
              "      <th>Total Trade Quantity</th>\n",
              "      <th>Turnover (Lacs)</th>\n",
              "    </tr>\n",
              "  </thead>\n",
              "  <tbody>\n",
              "    <tr>\n",
              "      <th>0</th>\n",
              "      <td>2018-09-28</td>\n",
              "      <td>234.05</td>\n",
              "      <td>235.95</td>\n",
              "      <td>230.20</td>\n",
              "      <td>233.50</td>\n",
              "      <td>233.75</td>\n",
              "      <td>3069914</td>\n",
              "      <td>7162.35</td>\n",
              "    </tr>\n",
              "    <tr>\n",
              "      <th>1</th>\n",
              "      <td>2018-09-27</td>\n",
              "      <td>234.55</td>\n",
              "      <td>236.80</td>\n",
              "      <td>231.10</td>\n",
              "      <td>233.80</td>\n",
              "      <td>233.25</td>\n",
              "      <td>5082859</td>\n",
              "      <td>11859.95</td>\n",
              "    </tr>\n",
              "    <tr>\n",
              "      <th>2</th>\n",
              "      <td>2018-09-26</td>\n",
              "      <td>240.00</td>\n",
              "      <td>240.00</td>\n",
              "      <td>232.50</td>\n",
              "      <td>235.00</td>\n",
              "      <td>234.25</td>\n",
              "      <td>2240909</td>\n",
              "      <td>5248.60</td>\n",
              "    </tr>\n",
              "    <tr>\n",
              "      <th>3</th>\n",
              "      <td>2018-09-25</td>\n",
              "      <td>233.30</td>\n",
              "      <td>236.75</td>\n",
              "      <td>232.00</td>\n",
              "      <td>236.25</td>\n",
              "      <td>236.10</td>\n",
              "      <td>2349368</td>\n",
              "      <td>5503.90</td>\n",
              "    </tr>\n",
              "    <tr>\n",
              "      <th>4</th>\n",
              "      <td>2018-09-24</td>\n",
              "      <td>233.55</td>\n",
              "      <td>239.20</td>\n",
              "      <td>230.75</td>\n",
              "      <td>234.00</td>\n",
              "      <td>233.30</td>\n",
              "      <td>3423509</td>\n",
              "      <td>7999.55</td>\n",
              "    </tr>\n",
              "  </tbody>\n",
              "</table>\n",
              "</div>"
            ],
            "text/plain": [
              "         Date    Open    High  ...   Close  Total Trade Quantity  Turnover (Lacs)\n",
              "0  2018-09-28  234.05  235.95  ...  233.75               3069914          7162.35\n",
              "1  2018-09-27  234.55  236.80  ...  233.25               5082859         11859.95\n",
              "2  2018-09-26  240.00  240.00  ...  234.25               2240909          5248.60\n",
              "3  2018-09-25  233.30  236.75  ...  236.10               2349368          5503.90\n",
              "4  2018-09-24  233.55  239.20  ...  233.30               3423509          7999.55\n",
              "\n",
              "[5 rows x 8 columns]"
            ]
          },
          "metadata": {},
          "execution_count": 5
        }
      ]
    },
    {
      "cell_type": "code",
      "metadata": {
        "colab": {
          "base_uri": "https://localhost:8080/"
        },
        "id": "eOpaXM3NDlGB",
        "outputId": "14a64bf1-95ff-4fed-dd83-e3b4d28634bb"
      },
      "source": [
        "df1=data.reset_index()['Close']\n",
        "df1"
      ],
      "execution_count": null,
      "outputs": [
        {
          "output_type": "execute_result",
          "data": {
            "text/plain": [
              "0       233.75\n",
              "1       233.25\n",
              "2       234.25\n",
              "3       236.10\n",
              "4       233.30\n",
              "         ...  \n",
              "2030    118.65\n",
              "2031    117.60\n",
              "2032    120.65\n",
              "2033    120.90\n",
              "2034    121.55\n",
              "Name: Close, Length: 2035, dtype: float64"
            ]
          },
          "metadata": {},
          "execution_count": 6
        }
      ]
    },
    {
      "cell_type": "code",
      "metadata": {
        "colab": {
          "base_uri": "https://localhost:8080/",
          "height": 283
        },
        "id": "MeLxQ00MDop-",
        "outputId": "bfc7fe2e-5946-4f53-e01f-a8370933f1fb"
      },
      "source": [
        "plt.plot(df1)"
      ],
      "execution_count": null,
      "outputs": [
        {
          "output_type": "execute_result",
          "data": {
            "text/plain": [
              "[<matplotlib.lines.Line2D at 0x7fec0c6867d0>]"
            ]
          },
          "metadata": {},
          "execution_count": 7
        },
        {
          "output_type": "display_data",
          "data": {
            "image/png": "[encoded data removed]",
            "text/plain": [
              "<Figure size 432x288 with 1 Axes>"
            ]
          },
          "metadata": {
            "needs_background": "light"
          }
        }
      ]
    },
    {
      "cell_type": "code",
      "metadata": {
        "colab": {
          "base_uri": "https://localhost:8080/"
        },
        "id": "NX1woR_oEJal",
        "outputId": "4d706b4e-53ba-4a42-b057-7a91145e20e8"
      },
      "source": [
        "from sklearn.preprocessing import MinMaxScaler\n",
        "scaler=MinMaxScaler(feature_range=(0,1))\n",
        "df1=scaler.fit_transform(np.array(df1).reshape(-1,1))\n",
        "df1"
      ],
      "execution_count": null,
      "outputs": [
        {
          "output_type": "execute_result",
          "data": {
            "text/plain": [
              "array([[0.62418301],\n",
              "       [0.62214052],\n",
              "       [0.62622549],\n",
              "       ...,\n",
              "       [0.1621732 ],\n",
              "       [0.16319444],\n",
              "       [0.16584967]])"
            ]
          },
          "metadata": {},
          "execution_count": 8
        }
      ]
    },
    {
      "cell_type": "markdown",
      "metadata": {
        "id": "veVciEv7I2fe"
      },
      "source": [
        "**Splitting Dataset**"
      ]
    },
    {
      "cell_type": "code",
      "metadata": {
        "id": "plA7DrFREMlO"
      },
      "source": [
        "training_size=int(len(df1)*0.65)\n",
        "test_size=len(df1)-training_size\n",
        "train_data,test_data=df1[0:training_size,:],df1[training_size:len(df1),:1]"
      ],
      "execution_count": null,
      "outputs": []
    },
    {
      "cell_type": "markdown",
      "metadata": {
        "id": "x2flh66BJBLI"
      },
      "source": [
        "**Conversion**"
      ]
    },
    {
      "cell_type": "code",
      "metadata": {
        "id": "VFK7_UGhEQb9"
      },
      "source": [
        "import numpy\n",
        "def create_dataset(dataset, time_step=1):\n",
        "    dataX, dataY = [], []\n",
        "    for i in range(len(dataset)-time_step-1):\n",
        "        a = dataset[i:(i+time_step), 0]   \n",
        "        dataX.append(a)\n",
        "        dataY.append(dataset[i + time_step, 0])\n",
        "    return numpy.array(dataX), numpy.array(dataY)\n",
        "time_step = 100\n",
        "X_train, y_train = create_dataset(train_data, time_step)\n",
        "X_test, ytest = create_dataset(test_data, time_step)"
      ],
      "execution_count": null,
      "outputs": []
    },
    {
      "cell_type": "code",
      "metadata": {
        "colab": {
          "base_uri": "https://localhost:8080/"
        },
        "id": "pfe2kqtrEWoJ",
        "outputId": "38801c4f-5004-4c30-bd52-e200266f1c68"
      },
      "source": [
        "print(X_train.shape), print(y_train.shape)"
      ],
      "execution_count": null,
      "outputs": [
        {
          "output_type": "stream",
          "name": "stdout",
          "text": [
            "(1221, 100)\n",
            "(1221,)\n"
          ]
        },
        {
          "output_type": "execute_result",
          "data": {
            "text/plain": [
              "(None, None)"
            ]
          },
          "metadata": {},
          "execution_count": 11
        }
      ]
    },
    {
      "cell_type": "code",
      "metadata": {
        "colab": {
          "base_uri": "https://localhost:8080/"
        },
        "id": "OiSJv1vqEdoM",
        "outputId": "2c0eb316-af06-443b-bf23-2525827d28f0"
      },
      "source": [
        "print(X_test.shape), print(ytest.shape)"
      ],
      "execution_count": null,
      "outputs": [
        {
          "output_type": "stream",
          "name": "stdout",
          "text": [
            "(612, 100)\n",
            "(612,)\n"
          ]
        },
        {
          "output_type": "execute_result",
          "data": {
            "text/plain": [
              "(None, None)"
            ]
          },
          "metadata": {},
          "execution_count": 12
        }
      ]
    },
    {
      "cell_type": "markdown",
      "metadata": {
        "id": "YJiyh0yyJJR0"
      },
      "source": [
        "**Creating stacked LSTM model and reshaping the input**"
      ]
    },
    {
      "cell_type": "code",
      "metadata": {
        "colab": {
          "base_uri": "https://localhost:8080/"
        },
        "id": "oNyBIkOOEghJ",
        "outputId": "e3711a2e-ceba-4ed7-dff9-7435ea48807b"
      },
      "source": [
        "X_train =X_train.reshape(X_train.shape[0],X_train.shape[1] , 1)\n",
        "X_test = X_test.reshape(X_test.shape[0],X_test.shape[1] , 1)\n",
        "import pip\n",
        "pip.main(['install','tensorflow'])\n",
        "from tensorflow.keras.models import Sequential\n",
        "from tensorflow.keras.layers import Dense\n",
        "from tensorflow.keras.layers import LSTM"
      ],
      "execution_count": null,
      "outputs": [
        {
          "output_type": "stream",
          "name": "stderr",
          "text": [
            "WARNING: pip is being invoked by an old script wrapper. This will fail in a future version of pip.\n",
            "Please see https://github.com/pypa/pip/issues/5599 for advice on fixing the underlying issue.\n",
            "To avoid this problem you can invoke Python with '-m pip' instead of running pip directly.\n"
          ]
        },
        {
          "output_type": "stream",
          "name": "stdout",
          "text": [
            "Requirement already satisfied: tensorflow in /usr/local/lib/python3.7/dist-packages (2.6.0)\n",
            "Requirement already satisfied: wheel~=0.35 in /usr/local/lib/python3.7/dist-packages (from tensorflow) (0.37.0)\n",
            "Requirement already satisfied: flatbuffers~=1.12.0 in /usr/local/lib/python3.7/dist-packages (from tensorflow) (1.12)\n",
            "Requirement already satisfied: h5py~=3.1.0 in /usr/local/lib/python3.7/dist-packages (from tensorflow) (3.1.0)\n",
            "Requirement already satisfied: termcolor~=1.1.0 in /usr/local/lib/python3.7/dist-packages (from tensorflow) (1.1.0)\n",
            "Requirement already satisfied: typing-extensions~=3.7.4 in /usr/local/lib/python3.7/dist-packages (from tensorflow) (3.7.4.3)\n",
            "Requirement already satisfied: six~=1.15.0 in /usr/local/lib/python3.7/dist-packages (from tensorflow) (1.15.0)\n",
            "Requirement already satisfied: absl-py~=0.10 in /usr/local/lib/python3.7/dist-packages (from tensorflow) (0.12.0)\n",
            "Requirement already satisfied: tensorboard~=2.6 in /usr/local/lib/python3.7/dist-packages (from tensorflow) (2.6.0)\n",
            "Requirement already satisfied: keras~=2.6 in /usr/local/lib/python3.7/dist-packages (from tensorflow) (2.6.0)\n",
            "Requirement already satisfied: astunparse~=1.6.3 in /usr/local/lib/python3.7/dist-packages (from tensorflow) (1.6.3)\n",
            "Requirement already satisfied: clang~=5.0 in /usr/local/lib/python3.7/dist-packages (from tensorflow) (5.0)\n",
            "Requirement already satisfied: protobuf>=3.9.2 in /usr/local/lib/python3.7/dist-packages (from tensorflow) (3.17.3)\n",
            "Requirement already satisfied: opt-einsum~=3.3.0 in /usr/local/lib/python3.7/dist-packages (from tensorflow) (3.3.0)\n",
            "Requirement already satisfied: gast==0.4.0 in /usr/local/lib/python3.7/dist-packages (from tensorflow) (0.4.0)\n",
            "Requirement already satisfied: keras-preprocessing~=1.1.2 in /usr/local/lib/python3.7/dist-packages (from tensorflow) (1.1.2)\n",
            "Requirement already satisfied: numpy~=1.19.2 in /usr/local/lib/python3.7/dist-packages (from tensorflow) (1.19.5)\n",
            "Requirement already satisfied: wrapt~=1.12.1 in /usr/local/lib/python3.7/dist-packages (from tensorflow) (1.12.1)\n",
            "Requirement already satisfied: tensorflow-estimator~=2.6 in /usr/local/lib/python3.7/dist-packages (from tensorflow) (2.6.0)\n",
            "Requirement already satisfied: grpcio<2.0,>=1.37.0 in /usr/local/lib/python3.7/dist-packages (from tensorflow) (1.40.0)\n",
            "Requirement already satisfied: google-pasta~=0.2 in /usr/local/lib/python3.7/dist-packages (from tensorflow) (0.2.0)\n",
            "Requirement already satisfied: cached-property in /usr/local/lib/python3.7/dist-packages (from h5py~=3.1.0->tensorflow) (1.5.2)\n",
            "Requirement already satisfied: markdown>=2.6.8 in /usr/local/lib/python3.7/dist-packages (from tensorboard~=2.6->tensorflow) (3.3.4)\n",
            "Requirement already satisfied: tensorboard-plugin-wit>=1.6.0 in /usr/local/lib/python3.7/dist-packages (from tensorboard~=2.6->tensorflow) (1.8.0)\n",
            "Requirement already satisfied: requests<3,>=2.21.0 in /usr/local/lib/python3.7/dist-packages (from tensorboard~=2.6->tensorflow) (2.23.0)\n",
            "Requirement already satisfied: tensorboard-data-server<0.7.0,>=0.6.0 in /usr/local/lib/python3.7/dist-packages (from tensorboard~=2.6->tensorflow) (0.6.1)\n",
            "Requirement already satisfied: google-auth-oauthlib<0.5,>=0.4.1 in /usr/local/lib/python3.7/dist-packages (from tensorboard~=2.6->tensorflow) (0.4.6)\n",
            "Requirement already satisfied: werkzeug>=0.11.15 in /usr/local/lib/python3.7/dist-packages (from tensorboard~=2.6->tensorflow) (1.0.1)\n",
            "Requirement already satisfied: google-auth<2,>=1.6.3 in /usr/local/lib/python3.7/dist-packages (from tensorboard~=2.6->tensorflow) (1.35.0)\n",
            "Requirement already satisfied: setuptools>=41.0.0 in /usr/local/lib/python3.7/dist-packages (from tensorboard~=2.6->tensorflow) (57.4.0)\n",
            "Requirement already satisfied: cachetools<5.0,>=2.0.0 in /usr/local/lib/python3.7/dist-packages (from google-auth<2,>=1.6.3->tensorboard~=2.6->tensorflow) (4.2.2)\n",
            "Requirement already satisfied: rsa<5,>=3.1.4 in /usr/local/lib/python3.7/dist-packages (from google-auth<2,>=1.6.3->tensorboard~=2.6->tensorflow) (4.7.2)\n",
            "Requirement already satisfied: pyasn1-modules>=0.2.1 in /usr/local/lib/python3.7/dist-packages (from google-auth<2,>=1.6.3->tensorboard~=2.6->tensorflow) (0.2.8)\n",
            "Requirement already satisfied: requests-oauthlib>=0.7.0 in /usr/local/lib/python3.7/dist-packages (from google-auth-oauthlib<0.5,>=0.4.1->tensorboard~=2.6->tensorflow) (1.3.0)\n",
            "Requirement already satisfied: importlib-metadata in /usr/local/lib/python3.7/dist-packages (from markdown>=2.6.8->tensorboard~=2.6->tensorflow) (4.8.1)\n",
            "Requirement already satisfied: pyasn1<0.5.0,>=0.4.6 in /usr/local/lib/python3.7/dist-packages (from pyasn1-modules>=0.2.1->google-auth<2,>=1.6.3->tensorboard~=2.6->tensorflow) (0.4.8)\n",
            "Requirement already satisfied: chardet<4,>=3.0.2 in /usr/local/lib/python3.7/dist-packages (from requests<3,>=2.21.0->tensorboard~=2.6->tensorflow) (3.0.4)\n",
            "Requirement already satisfied: idna<3,>=2.5 in /usr/local/lib/python3.7/dist-packages (from requests<3,>=2.21.0->tensorboard~=2.6->tensorflow) (2.10)\n",
            "Requirement already satisfied: certifi>=2017.4.17 in /usr/local/lib/python3.7/dist-packages (from requests<3,>=2.21.0->tensorboard~=2.6->tensorflow) (2021.5.30)\n",
            "Requirement already satisfied: urllib3!=1.25.0,!=1.25.1,<1.26,>=1.21.1 in /usr/local/lib/python3.7/dist-packages (from requests<3,>=2.21.0->tensorboard~=2.6->tensorflow) (1.24.3)\n",
            "Requirement already satisfied: oauthlib>=3.0.0 in /usr/local/lib/python3.7/dist-packages (from requests-oauthlib>=0.7.0->google-auth-oauthlib<0.5,>=0.4.1->tensorboard~=2.6->tensorflow) (3.1.1)\n",
            "Requirement already satisfied: zipp>=0.5 in /usr/local/lib/python3.7/dist-packages (from importlib-metadata->markdown>=2.6.8->tensorboard~=2.6->tensorflow) (3.5.0)\n"
          ]
        }
      ]
    },
    {
      "cell_type": "code",
      "metadata": {
        "id": "vcJ55nWdEppd"
      },
      "source": [
        "model=Sequential()\n",
        "model.add(LSTM(50,return_sequences=True,input_shape=(100,1)))\n",
        "model.add(LSTM(50,return_sequences=True))\n",
        "model.add(LSTM(50))\n",
        "model.add(Dense(1))\n",
        "model.compile(loss='mean_squared_error',optimizer='adam')"
      ],
      "execution_count": null,
      "outputs": []
    },
    {
      "cell_type": "code",
      "metadata": {
        "colab": {
          "base_uri": "https://localhost:8080/"
        },
        "id": "PaGylqQFEu7X",
        "outputId": "93251f03-b375-45a8-e979-3f7b9ea8defc"
      },
      "source": [
        "model.summary()"
      ],
      "execution_count": null,
      "outputs": [
        {
          "output_type": "stream",
          "name": "stdout",
          "text": [
            "Model: \"sequential\"\n",
            "_________________________________________________________________\n",
            "Layer (type)                 Output Shape              Param #   \n",
            "=================================================================\n",
            "lstm (LSTM)                  (None, 100, 50)           10400     \n",
            "_________________________________________________________________\n",
            "lstm_1 (LSTM)                (None, 100, 50)           20200     \n",
            "_________________________________________________________________\n",
            "lstm_2 (LSTM)                (None, 50)                20200     \n",
            "_________________________________________________________________\n",
            "dense (Dense)                (None, 1)                 51        \n",
            "=================================================================\n",
            "Total params: 50,851\n",
            "Trainable params: 50,851\n",
            "Non-trainable params: 0\n",
            "_________________________________________________________________\n"
          ]
        }
      ]
    },
    {
      "cell_type": "markdown",
      "metadata": {
        "id": "_y5dJ4X0JbTw"
      },
      "source": [
        "**Fitting the Model**"
      ]
    },
    {
      "cell_type": "code",
      "metadata": {
        "colab": {
          "base_uri": "https://localhost:8080/"
        },
        "id": "doJhBxpaE07L",
        "outputId": "387fddfc-19e7-498c-e988-b3bf60f27282"
      },
      "source": [
        "model.fit(X_train,y_train,validation_data=(X_test,ytest),epochs=100,batch_size=64,verbose=1)"
      ],
      "execution_count": null,
      "outputs": [
        {
          "output_type": "stream",
          "name": "stdout",
          "text": [
            "Epoch 1/100\n",
            "20/20 [==============================] - 10s 251ms/step - loss: 0.0313 - val_loss: 0.0027\n",
            "Epoch 2/100\n",
            "20/20 [==============================] - 4s 194ms/step - loss: 0.0038 - val_loss: 0.0014\n",
            "Epoch 3/100\n",
            "20/20 [==============================] - 4s 196ms/step - loss: 0.0018 - val_loss: 0.0011\n",
            "Epoch 4/100\n",
            "20/20 [==============================] - 4s 196ms/step - loss: 0.0016 - val_loss: 0.0011\n",
            "Epoch 5/100\n",
            "20/20 [==============================] - 4s 195ms/step - loss: 0.0014 - val_loss: 0.0011\n",
            "Epoch 6/100\n",
            "20/20 [==============================] - 4s 195ms/step - loss: 0.0014 - val_loss: 0.0011\n",
            "Epoch 7/100\n",
            "20/20 [==============================] - 4s 192ms/step - loss: 0.0013 - val_loss: 0.0011\n",
            "Epoch 8/100\n",
            "20/20 [==============================] - 4s 197ms/step - loss: 0.0012 - val_loss: 0.0013\n",
            "Epoch 9/100\n",
            "20/20 [==============================] - 4s 195ms/step - loss: 0.0011 - val_loss: 9.1054e-04\n",
            "Epoch 10/100\n",
            "20/20 [==============================] - 4s 193ms/step - loss: 0.0011 - val_loss: 0.0012\n",
            "Epoch 11/100\n",
            "20/20 [==============================] - 4s 196ms/step - loss: 0.0011 - val_loss: 8.5733e-04\n",
            "Epoch 12/100\n",
            "20/20 [==============================] - 4s 196ms/step - loss: 0.0010 - val_loss: 9.4631e-04\n",
            "Epoch 13/100\n",
            "20/20 [==============================] - 4s 194ms/step - loss: 0.0011 - val_loss: 8.9171e-04\n",
            "Epoch 14/100\n",
            "20/20 [==============================] - 4s 194ms/step - loss: 0.0011 - val_loss: 0.0011\n",
            "Epoch 15/100\n",
            "20/20 [==============================] - 4s 193ms/step - loss: 8.7240e-04 - val_loss: 7.9876e-04\n",
            "Epoch 16/100\n",
            "20/20 [==============================] - 4s 199ms/step - loss: 8.5565e-04 - val_loss: 7.3180e-04\n",
            "Epoch 17/100\n",
            "20/20 [==============================] - 4s 196ms/step - loss: 9.4069e-04 - val_loss: 8.4953e-04\n",
            "Epoch 18/100\n",
            "20/20 [==============================] - 4s 195ms/step - loss: 8.5137e-04 - val_loss: 7.6798e-04\n",
            "Epoch 19/100\n",
            "20/20 [==============================] - 4s 197ms/step - loss: 8.3322e-04 - val_loss: 0.0010\n",
            "Epoch 20/100\n",
            "20/20 [==============================] - 4s 199ms/step - loss: 8.4612e-04 - val_loss: 9.7049e-04\n",
            "Epoch 21/100\n",
            "20/20 [==============================] - 4s 197ms/step - loss: 7.5753e-04 - val_loss: 7.1169e-04\n",
            "Epoch 22/100\n",
            "20/20 [==============================] - 4s 193ms/step - loss: 8.0397e-04 - val_loss: 6.6697e-04\n",
            "Epoch 23/100\n",
            "20/20 [==============================] - 4s 194ms/step - loss: 7.7132e-04 - val_loss: 6.9845e-04\n",
            "Epoch 24/100\n",
            "20/20 [==============================] - 4s 195ms/step - loss: 8.2495e-04 - val_loss: 7.2813e-04\n",
            "Epoch 25/100\n",
            "20/20 [==============================] - 4s 195ms/step - loss: 6.7882e-04 - val_loss: 7.7518e-04\n",
            "Epoch 26/100\n",
            "20/20 [==============================] - 4s 196ms/step - loss: 6.5763e-04 - val_loss: 7.9419e-04\n",
            "Epoch 27/100\n",
            "20/20 [==============================] - 4s 195ms/step - loss: 7.0438e-04 - val_loss: 8.3763e-04\n",
            "Epoch 28/100\n",
            "20/20 [==============================] - 4s 195ms/step - loss: 6.8312e-04 - val_loss: 8.8639e-04\n",
            "Epoch 29/100\n",
            "20/20 [==============================] - 4s 194ms/step - loss: 6.6105e-04 - val_loss: 8.1776e-04\n",
            "Epoch 30/100\n",
            "20/20 [==============================] - 4s 194ms/step - loss: 6.7066e-04 - val_loss: 6.1858e-04\n",
            "Epoch 31/100\n",
            "20/20 [==============================] - 4s 195ms/step - loss: 6.7824e-04 - val_loss: 6.3305e-04\n",
            "Epoch 32/100\n",
            "20/20 [==============================] - 4s 197ms/step - loss: 5.9940e-04 - val_loss: 8.1790e-04\n",
            "Epoch 33/100\n",
            "20/20 [==============================] - 4s 194ms/step - loss: 7.9781e-04 - val_loss: 8.2117e-04\n",
            "Epoch 34/100\n",
            "20/20 [==============================] - 4s 198ms/step - loss: 6.0879e-04 - val_loss: 5.6276e-04\n",
            "Epoch 35/100\n",
            "20/20 [==============================] - 4s 194ms/step - loss: 7.6039e-04 - val_loss: 5.8263e-04\n",
            "Epoch 36/100\n",
            "20/20 [==============================] - 4s 196ms/step - loss: 5.7706e-04 - val_loss: 7.3331e-04\n",
            "Epoch 37/100\n",
            "20/20 [==============================] - 4s 198ms/step - loss: 5.7923e-04 - val_loss: 6.9083e-04\n",
            "Epoch 38/100\n",
            "20/20 [==============================] - 4s 194ms/step - loss: 5.6299e-04 - val_loss: 7.0627e-04\n",
            "Epoch 39/100\n",
            "20/20 [==============================] - 4s 196ms/step - loss: 5.3438e-04 - val_loss: 5.9497e-04\n",
            "Epoch 40/100\n",
            "20/20 [==============================] - 4s 201ms/step - loss: 5.2700e-04 - val_loss: 4.8446e-04\n",
            "Epoch 41/100\n",
            "20/20 [==============================] - 4s 197ms/step - loss: 7.5139e-04 - val_loss: 5.1474e-04\n",
            "Epoch 42/100\n",
            "20/20 [==============================] - 4s 198ms/step - loss: 5.2282e-04 - val_loss: 7.7421e-04\n",
            "Epoch 43/100\n",
            "20/20 [==============================] - 4s 203ms/step - loss: 6.4236e-04 - val_loss: 5.4859e-04\n",
            "Epoch 44/100\n",
            "20/20 [==============================] - 4s 199ms/step - loss: 6.0365e-04 - val_loss: 6.2763e-04\n",
            "Epoch 45/100\n",
            "20/20 [==============================] - 4s 201ms/step - loss: 5.5320e-04 - val_loss: 6.2853e-04\n",
            "Epoch 46/100\n",
            "20/20 [==============================] - 4s 198ms/step - loss: 5.0042e-04 - val_loss: 6.2405e-04\n",
            "Epoch 47/100\n",
            "20/20 [==============================] - 4s 200ms/step - loss: 4.8108e-04 - val_loss: 4.1387e-04\n",
            "Epoch 48/100\n",
            "20/20 [==============================] - 4s 198ms/step - loss: 5.0001e-04 - val_loss: 4.6586e-04\n",
            "Epoch 49/100\n",
            "20/20 [==============================] - 4s 195ms/step - loss: 4.8068e-04 - val_loss: 6.7573e-04\n",
            "Epoch 50/100\n",
            "20/20 [==============================] - 4s 203ms/step - loss: 5.6006e-04 - val_loss: 6.3518e-04\n",
            "Epoch 51/100\n",
            "20/20 [==============================] - 4s 199ms/step - loss: 4.8657e-04 - val_loss: 4.8817e-04\n",
            "Epoch 52/100\n",
            "20/20 [==============================] - 4s 198ms/step - loss: 4.5434e-04 - val_loss: 4.4577e-04\n",
            "Epoch 53/100\n",
            "20/20 [==============================] - 4s 198ms/step - loss: 4.8435e-04 - val_loss: 4.5164e-04\n",
            "Epoch 54/100\n",
            "20/20 [==============================] - 4s 196ms/step - loss: 4.5591e-04 - val_loss: 5.0438e-04\n",
            "Epoch 55/100\n",
            "20/20 [==============================] - 4s 198ms/step - loss: 4.8025e-04 - val_loss: 4.1172e-04\n",
            "Epoch 56/100\n",
            "20/20 [==============================] - 4s 200ms/step - loss: 4.4366e-04 - val_loss: 3.7741e-04\n",
            "Epoch 57/100\n",
            "20/20 [==============================] - 4s 203ms/step - loss: 4.7443e-04 - val_loss: 3.6799e-04\n",
            "Epoch 58/100\n",
            "20/20 [==============================] - 4s 200ms/step - loss: 4.1639e-04 - val_loss: 3.4576e-04\n",
            "Epoch 59/100\n",
            "20/20 [==============================] - 4s 201ms/step - loss: 4.0059e-04 - val_loss: 4.5493e-04\n",
            "Epoch 60/100\n",
            "20/20 [==============================] - 4s 196ms/step - loss: 3.8343e-04 - val_loss: 4.4182e-04\n",
            "Epoch 61/100\n",
            "20/20 [==============================] - 4s 199ms/step - loss: 4.0476e-04 - val_loss: 3.9799e-04\n",
            "Epoch 62/100\n",
            "20/20 [==============================] - 4s 197ms/step - loss: 4.3339e-04 - val_loss: 3.4595e-04\n",
            "Epoch 63/100\n",
            "20/20 [==============================] - 4s 196ms/step - loss: 3.7525e-04 - val_loss: 3.7307e-04\n",
            "Epoch 64/100\n",
            "20/20 [==============================] - 4s 199ms/step - loss: 3.5836e-04 - val_loss: 3.6975e-04\n",
            "Epoch 65/100\n",
            "20/20 [==============================] - 4s 199ms/step - loss: 4.1158e-04 - val_loss: 4.2609e-04\n",
            "Epoch 66/100\n",
            "20/20 [==============================] - 4s 198ms/step - loss: 3.4821e-04 - val_loss: 3.1987e-04\n",
            "Epoch 67/100\n",
            "20/20 [==============================] - 4s 199ms/step - loss: 3.4458e-04 - val_loss: 3.5628e-04\n",
            "Epoch 68/100\n",
            "20/20 [==============================] - 4s 199ms/step - loss: 4.2381e-04 - val_loss: 3.0220e-04\n",
            "Epoch 69/100\n",
            "20/20 [==============================] - 4s 197ms/step - loss: 4.7878e-04 - val_loss: 4.1022e-04\n",
            "Epoch 70/100\n",
            "20/20 [==============================] - 4s 199ms/step - loss: 3.4338e-04 - val_loss: 4.7774e-04\n",
            "Epoch 71/100\n",
            "20/20 [==============================] - 4s 200ms/step - loss: 4.7739e-04 - val_loss: 3.1498e-04\n",
            "Epoch 72/100\n",
            "20/20 [==============================] - 4s 200ms/step - loss: 4.7917e-04 - val_loss: 5.8689e-04\n",
            "Epoch 73/100\n",
            "20/20 [==============================] - 4s 200ms/step - loss: 4.2999e-04 - val_loss: 3.1118e-04\n",
            "Epoch 74/100\n",
            "20/20 [==============================] - 4s 198ms/step - loss: 3.8935e-04 - val_loss: 3.3210e-04\n",
            "Epoch 75/100\n",
            "20/20 [==============================] - 4s 198ms/step - loss: 3.4007e-04 - val_loss: 4.7170e-04\n",
            "Epoch 76/100\n",
            "20/20 [==============================] - 4s 198ms/step - loss: 3.7716e-04 - val_loss: 3.5275e-04\n",
            "Epoch 77/100\n",
            "20/20 [==============================] - 4s 196ms/step - loss: 2.9474e-04 - val_loss: 3.6342e-04\n",
            "Epoch 78/100\n",
            "20/20 [==============================] - 4s 198ms/step - loss: 3.1173e-04 - val_loss: 3.9864e-04\n",
            "Epoch 79/100\n",
            "20/20 [==============================] - 4s 197ms/step - loss: 3.3157e-04 - val_loss: 2.4782e-04\n",
            "Epoch 80/100\n",
            "20/20 [==============================] - 4s 197ms/step - loss: 3.3839e-04 - val_loss: 2.5800e-04\n",
            "Epoch 81/100\n",
            "20/20 [==============================] - 4s 201ms/step - loss: 3.0779e-04 - val_loss: 2.4308e-04\n",
            "Epoch 82/100\n",
            "20/20 [==============================] - 4s 197ms/step - loss: 2.8815e-04 - val_loss: 2.9823e-04\n",
            "Epoch 83/100\n",
            "20/20 [==============================] - 4s 198ms/step - loss: 2.7553e-04 - val_loss: 4.0947e-04\n",
            "Epoch 84/100\n",
            "20/20 [==============================] - 4s 197ms/step - loss: 3.0426e-04 - val_loss: 2.5879e-04\n",
            "Epoch 85/100\n",
            "20/20 [==============================] - 4s 197ms/step - loss: 2.7471e-04 - val_loss: 3.1203e-04\n",
            "Epoch 86/100\n",
            "20/20 [==============================] - 4s 199ms/step - loss: 2.7341e-04 - val_loss: 2.3699e-04\n",
            "Epoch 87/100\n",
            "20/20 [==============================] - 4s 196ms/step - loss: 3.7428e-04 - val_loss: 2.7939e-04\n",
            "Epoch 88/100\n",
            "20/20 [==============================] - 4s 198ms/step - loss: 2.9361e-04 - val_loss: 2.8788e-04\n",
            "Epoch 89/100\n",
            "20/20 [==============================] - 4s 198ms/step - loss: 2.5608e-04 - val_loss: 2.3498e-04\n",
            "Epoch 90/100\n",
            "20/20 [==============================] - 4s 198ms/step - loss: 2.7513e-04 - val_loss: 2.3709e-04\n",
            "Epoch 91/100\n",
            "20/20 [==============================] - 4s 196ms/step - loss: 2.8534e-04 - val_loss: 2.2598e-04\n",
            "Epoch 92/100\n",
            "20/20 [==============================] - 4s 199ms/step - loss: 3.4663e-04 - val_loss: 2.7462e-04\n",
            "Epoch 93/100\n",
            "20/20 [==============================] - 4s 199ms/step - loss: 2.7518e-04 - val_loss: 3.4937e-04\n",
            "Epoch 94/100\n",
            "20/20 [==============================] - 4s 195ms/step - loss: 2.5059e-04 - val_loss: 2.2398e-04\n",
            "Epoch 95/100\n",
            "20/20 [==============================] - 4s 198ms/step - loss: 2.5310e-04 - val_loss: 2.7911e-04\n",
            "Epoch 96/100\n",
            "20/20 [==============================] - 4s 200ms/step - loss: 2.9562e-04 - val_loss: 3.4330e-04\n",
            "Epoch 97/100\n",
            "20/20 [==============================] - 4s 201ms/step - loss: 2.7557e-04 - val_loss: 2.8003e-04\n",
            "Epoch 98/100\n",
            "20/20 [==============================] - 4s 199ms/step - loss: 2.5888e-04 - val_loss: 2.8014e-04\n",
            "Epoch 99/100\n",
            "20/20 [==============================] - 4s 201ms/step - loss: 2.4387e-04 - val_loss: 2.1985e-04\n",
            "Epoch 100/100\n",
            "20/20 [==============================] - 4s 198ms/step - loss: 2.4277e-04 - val_loss: 2.2208e-04\n"
          ]
        },
        {
          "output_type": "execute_result",
          "data": {
            "text/plain": [
              "<keras.callbacks.History at 0x7febb0f4e790>"
            ]
          },
          "metadata": {},
          "execution_count": 16
        }
      ]
    },
    {
      "cell_type": "code",
      "metadata": {
        "id": "n5UW8A7mE71p"
      },
      "source": [
        "import tensorflow as tf"
      ],
      "execution_count": null,
      "outputs": []
    },
    {
      "cell_type": "markdown",
      "metadata": {
        "id": "9-ablFUUJmqt"
      },
      "source": [
        "**Prediction and Performance**"
      ]
    },
    {
      "cell_type": "code",
      "metadata": {
        "id": "x9el93VIGmRo"
      },
      "source": [
        "train_predict=model.predict(X_train)\n",
        "test_predict=model.predict(X_test)"
      ],
      "execution_count": null,
      "outputs": []
    },
    {
      "cell_type": "code",
      "metadata": {
        "id": "NJnX9xhUGrZn"
      },
      "source": [
        "train_predict=scaler.inverse_transform(train_predict)\n",
        "test_predict=scaler.inverse_transform(test_predict)"
      ],
      "execution_count": null,
      "outputs": []
    },
    {
      "cell_type": "code",
      "metadata": {
        "colab": {
          "base_uri": "https://localhost:8080/"
        },
        "id": "uVF3yrjjGuub",
        "outputId": "df2052ac-77b3-4159-ca8c-ba95119a8032"
      },
      "source": [
        "import math\n",
        "from sklearn.metrics import mean_squared_error\n",
        "math.sqrt(mean_squared_error(y_train,train_predict))"
      ],
      "execution_count": null,
      "outputs": [
        {
          "output_type": "execute_result",
          "data": {
            "text/plain": [
              "166.00066807265674"
            ]
          },
          "metadata": {},
          "execution_count": 20
        }
      ]
    },
    {
      "cell_type": "code",
      "metadata": {
        "colab": {
          "base_uri": "https://localhost:8080/"
        },
        "id": "SQuSz0DiGyQY",
        "outputId": "5b1c8c2c-1ef2-4519-8f9e-3ea7c8a36b9a"
      },
      "source": [
        "math.sqrt(mean_squared_error(ytest,test_predict))"
      ],
      "execution_count": null,
      "outputs": [
        {
          "output_type": "execute_result",
          "data": {
            "text/plain": [
              "116.04308072130955"
            ]
          },
          "metadata": {},
          "execution_count": 21
        }
      ]
    },
    {
      "cell_type": "markdown",
      "metadata": {
        "id": "KhEu9jqEJxDC"
      },
      "source": [
        "**Plottings**"
      ]
    },
    {
      "cell_type": "code",
      "metadata": {
        "id": "Tw_uMq7SG1os"
      },
      "source": [
        "look_back=100\n",
        "trainPredictPlot = numpy.empty_like(df1)\n",
        "trainPredictPlot[:, :] = np.nan\n",
        "trainPredictPlot[look_back:len(train_predict)+look_back, :] = train_predict"
      ],
      "execution_count": null,
      "outputs": []
    },
    {
      "cell_type": "code",
      "metadata": {
        "id": "91Vp8gp3G5CN"
      },
      "source": [
        "testPredictPlot = numpy.empty_like(df1)\n",
        "testPredictPlot[:, :] = numpy.nan\n",
        "testPredictPlot[len(train_predict)+(look_back*2)+1:len(df1)-1, :] = test_predict"
      ],
      "execution_count": null,
      "outputs": []
    },
    {
      "cell_type": "code",
      "metadata": {
        "colab": {
          "base_uri": "https://localhost:8080/",
          "height": 265
        },
        "id": "xrgRoJiKG9K9",
        "outputId": "bdeb4322-65cc-43aa-cd9a-f5dd71903d74"
      },
      "source": [
        "plt.plot(scaler.inverse_transform(df1))\n",
        "plt.plot(trainPredictPlot)\n",
        "plt.plot(testPredictPlot)\n",
        "plt.show()"
      ],
      "execution_count": null,
      "outputs": [
        {
          "output_type": "display_data",
          "data": {
            "image/png": "[encoded data removed]",
            "text/plain": [
              "<Figure size 432x288 with 1 Axes>"
            ]
          },
          "metadata": {
            "needs_background": "light"
          }
        }
      ]
    },
    {
      "cell_type": "code",
      "metadata": {
        "colab": {
          "base_uri": "https://localhost:8080/"
        },
        "id": "De6_BgT9G_-o",
        "outputId": "ecff7cb8-86d6-4df4-a00b-5037c2f6c63f"
      },
      "source": [
        "len(test_data)"
      ],
      "execution_count": null,
      "outputs": [
        {
          "output_type": "execute_result",
          "data": {
            "text/plain": [
              "713"
            ]
          },
          "metadata": {},
          "execution_count": 25
        }
      ]
    },
    {
      "cell_type": "code",
      "metadata": {
        "colab": {
          "base_uri": "https://localhost:8080/"
        },
        "id": "UE2iNs1XHC48",
        "outputId": "b1f671d3-4502-4d08-a323-5d430bc2a1d9"
      },
      "source": [
        "x_input=test_data[613:].reshape(1,-1)\n",
        "x_input.shape"
      ],
      "execution_count": null,
      "outputs": [
        {
          "output_type": "execute_result",
          "data": {
            "text/plain": [
              "(1, 100)"
            ]
          },
          "metadata": {},
          "execution_count": 26
        }
      ]
    },
    {
      "cell_type": "code",
      "metadata": {
        "id": "0Tv5s8pSHFgF"
      },
      "source": [
        "temp_input=list(x_input)\n",
        "temp_input=temp_input[0].tolist()"
      ],
      "execution_count": null,
      "outputs": []
    },
    {
      "cell_type": "markdown",
      "metadata": {
        "id": "3RcHA5iJKBLG"
      },
      "source": [
        "# prediction for the next 10 days"
      ]
    },
    {
      "cell_type": "code",
      "metadata": {
        "colab": {
          "base_uri": "https://localhost:8080/"
        },
        "id": "MbO_hD83HIBA",
        "outputId": "1e361a8b-e472-46f1-d34e-9760a229ce3c"
      },
      "source": [
        "from numpy import array\n",
        "\n",
        "lst_output=[]\n",
        "n_steps=100\n",
        "i=0\n",
        "while(i<30):\n",
        "    \n",
        "    if(len(temp_input)>100):\n",
        "        x_input=np.array(temp_input[1:])\n",
        "        print(\"{} day input {}\".format(i,x_input))\n",
        "        x_input=x_input.reshape(1,-1)\n",
        "        x_input = x_input.reshape((1, n_steps, 1))\n",
        "        yhat = model.predict(x_input, verbose=0)\n",
        "        print(\"{} day output {}\".format(i,yhat))\n",
        "        temp_input.extend(yhat[0].tolist())\n",
        "        temp_input=temp_input[1:]\n",
        "        lst_output.extend(yhat.tolist())\n",
        "        i=i+1\n",
        "    else:\n",
        "        x_input = x_input.reshape((1, n_steps,1))\n",
        "        yhat = model.predict(x_input, verbose=0)\n",
        "        print(yhat[0])\n",
        "        temp_input.extend(yhat[0].tolist())\n",
        "        print(len(temp_input))\n",
        "        lst_output.extend(yhat.tolist())\n",
        "        i=i+1"
      ],
      "execution_count": null,
      "outputs": [
        {
          "output_type": "stream",
          "name": "stdout",
          "text": [
            "[0.16562879]\n",
            "101\n",
            "1 day input [0.13848039 0.14011438 0.13888889 0.13541667 0.14011438 0.1380719\n",
            " 0.13071895 0.13071895 0.12867647 0.11846405 0.14644608 0.14808007\n",
            " 0.15910948 0.15992647 0.15788399 0.16441993 0.17892157 0.17933007\n",
            " 0.19260621 0.20812908 0.18974673 0.18055556 0.18239379 0.17708333\n",
            " 0.17810458 0.18055556 0.17810458 0.17851307 0.19607843 0.18913399\n",
            " 0.18954248 0.19403595 0.19444444 0.20200163 0.19771242 0.19934641\n",
            " 0.19873366 0.1997549  0.2128268  0.21568627 0.20445261 0.21772876\n",
            " 0.21098856 0.21425654 0.19750817 0.18811275 0.17851307 0.17381536\n",
            " 0.16033497 0.16564542 0.17116013 0.17422386 0.18035131 0.17401961\n",
            " 0.16278595 0.16973039 0.17810458 0.17034314 0.16830065 0.17279412\n",
            " 0.17544935 0.18382353 0.19138072 0.18913399 0.19097222 0.17238562\n",
            " 0.16830065 0.1693219  0.17177288 0.16156046 0.14971405 0.1503268\n",
            " 0.15196078 0.14726307 0.14501634 0.14603758 0.12479575 0.13112745\n",
            " 0.11397059 0.1190768  0.12377451 0.13562092 0.12908497 0.13459967\n",
            " 0.12806373 0.13031046 0.12724673 0.13521242 0.14522059 0.15257353\n",
            " 0.14848856 0.14338235 0.14562908 0.15236928 0.15400327 0.14971405\n",
            " 0.1621732  0.16319444 0.16584967 0.16562879]\n",
            "1 day output [[0.1678123]]\n",
            "2 day input [0.14011438 0.13888889 0.13541667 0.14011438 0.1380719  0.13071895\n",
            " 0.13071895 0.12867647 0.11846405 0.14644608 0.14808007 0.15910948\n",
            " 0.15992647 0.15788399 0.16441993 0.17892157 0.17933007 0.19260621\n",
            " 0.20812908 0.18974673 0.18055556 0.18239379 0.17708333 0.17810458\n",
            " 0.18055556 0.17810458 0.17851307 0.19607843 0.18913399 0.18954248\n",
            " 0.19403595 0.19444444 0.20200163 0.19771242 0.19934641 0.19873366\n",
            " 0.1997549  0.2128268  0.21568627 0.20445261 0.21772876 0.21098856\n",
            " 0.21425654 0.19750817 0.18811275 0.17851307 0.17381536 0.16033497\n",
            " 0.16564542 0.17116013 0.17422386 0.18035131 0.17401961 0.16278595\n",
            " 0.16973039 0.17810458 0.17034314 0.16830065 0.17279412 0.17544935\n",
            " 0.18382353 0.19138072 0.18913399 0.19097222 0.17238562 0.16830065\n",
            " 0.1693219  0.17177288 0.16156046 0.14971405 0.1503268  0.15196078\n",
            " 0.14726307 0.14501634 0.14603758 0.12479575 0.13112745 0.11397059\n",
            " 0.1190768  0.12377451 0.13562092 0.12908497 0.13459967 0.12806373\n",
            " 0.13031046 0.12724673 0.13521242 0.14522059 0.15257353 0.14848856\n",
            " 0.14338235 0.14562908 0.15236928 0.15400327 0.14971405 0.1621732\n",
            " 0.16319444 0.16584967 0.16562879 0.1678123 ]\n",
            "2 day output [[0.1689981]]\n",
            "3 day input [0.13888889 0.13541667 0.14011438 0.1380719  0.13071895 0.13071895\n",
            " 0.12867647 0.11846405 0.14644608 0.14808007 0.15910948 0.15992647\n",
            " 0.15788399 0.16441993 0.17892157 0.17933007 0.19260621 0.20812908\n",
            " 0.18974673 0.18055556 0.18239379 0.17708333 0.17810458 0.18055556\n",
            " 0.17810458 0.17851307 0.19607843 0.18913399 0.18954248 0.19403595\n",
            " 0.19444444 0.20200163 0.19771242 0.19934641 0.19873366 0.1997549\n",
            " 0.2128268  0.21568627 0.20445261 0.21772876 0.21098856 0.21425654\n",
            " 0.19750817 0.18811275 0.17851307 0.17381536 0.16033497 0.16564542\n",
            " 0.17116013 0.17422386 0.18035131 0.17401961 0.16278595 0.16973039\n",
            " 0.17810458 0.17034314 0.16830065 0.17279412 0.17544935 0.18382353\n",
            " 0.19138072 0.18913399 0.19097222 0.17238562 0.16830065 0.1693219\n",
            " 0.17177288 0.16156046 0.14971405 0.1503268  0.15196078 0.14726307\n",
            " 0.14501634 0.14603758 0.12479575 0.13112745 0.11397059 0.1190768\n",
            " 0.12377451 0.13562092 0.12908497 0.13459967 0.12806373 0.13031046\n",
            " 0.12724673 0.13521242 0.14522059 0.15257353 0.14848856 0.14338235\n",
            " 0.14562908 0.15236928 0.15400327 0.14971405 0.1621732  0.16319444\n",
            " 0.16584967 0.16562879 0.1678123  0.16899811]\n",
            "3 day output [[0.16978624]]\n",
            "4 day input [0.13541667 0.14011438 0.1380719  0.13071895 0.13071895 0.12867647\n",
            " 0.11846405 0.14644608 0.14808007 0.15910948 0.15992647 0.15788399\n",
            " 0.16441993 0.17892157 0.17933007 0.19260621 0.20812908 0.18974673\n",
            " 0.18055556 0.18239379 0.17708333 0.17810458 0.18055556 0.17810458\n",
            " 0.17851307 0.19607843 0.18913399 0.18954248 0.19403595 0.19444444\n",
            " 0.20200163 0.19771242 0.19934641 0.19873366 0.1997549  0.2128268\n",
            " 0.21568627 0.20445261 0.21772876 0.21098856 0.21425654 0.19750817\n",
            " 0.18811275 0.17851307 0.17381536 0.16033497 0.16564542 0.17116013\n",
            " 0.17422386 0.18035131 0.17401961 0.16278595 0.16973039 0.17810458\n",
            " 0.17034314 0.16830065 0.17279412 0.17544935 0.18382353 0.19138072\n",
            " 0.18913399 0.19097222 0.17238562 0.16830065 0.1693219  0.17177288\n",
            " 0.16156046 0.14971405 0.1503268  0.15196078 0.14726307 0.14501634\n",
            " 0.14603758 0.12479575 0.13112745 0.11397059 0.1190768  0.12377451\n",
            " 0.13562092 0.12908497 0.13459967 0.12806373 0.13031046 0.12724673\n",
            " 0.13521242 0.14522059 0.15257353 0.14848856 0.14338235 0.14562908\n",
            " 0.15236928 0.15400327 0.14971405 0.1621732  0.16319444 0.16584967\n",
            " 0.16562879 0.1678123  0.16899811 0.16978624]\n",
            "4 day output [[0.17049241]]\n",
            "5 day input [0.14011438 0.1380719  0.13071895 0.13071895 0.12867647 0.11846405\n",
            " 0.14644608 0.14808007 0.15910948 0.15992647 0.15788399 0.16441993\n",
            " 0.17892157 0.17933007 0.19260621 0.20812908 0.18974673 0.18055556\n",
            " 0.18239379 0.17708333 0.17810458 0.18055556 0.17810458 0.17851307\n",
            " 0.19607843 0.18913399 0.18954248 0.19403595 0.19444444 0.20200163\n",
            " 0.19771242 0.19934641 0.19873366 0.1997549  0.2128268  0.21568627\n",
            " 0.20445261 0.21772876 0.21098856 0.21425654 0.19750817 0.18811275\n",
            " 0.17851307 0.17381536 0.16033497 0.16564542 0.17116013 0.17422386\n",
            " 0.18035131 0.17401961 0.16278595 0.16973039 0.17810458 0.17034314\n",
            " 0.16830065 0.17279412 0.17544935 0.18382353 0.19138072 0.18913399\n",
            " 0.19097222 0.17238562 0.16830065 0.1693219  0.17177288 0.16156046\n",
            " 0.14971405 0.1503268  0.15196078 0.14726307 0.14501634 0.14603758\n",
            " 0.12479575 0.13112745 0.11397059 0.1190768  0.12377451 0.13562092\n",
            " 0.12908497 0.13459967 0.12806373 0.13031046 0.12724673 0.13521242\n",
            " 0.14522059 0.15257353 0.14848856 0.14338235 0.14562908 0.15236928\n",
            " 0.15400327 0.14971405 0.1621732  0.16319444 0.16584967 0.16562879\n",
            " 0.1678123  0.16899811 0.16978624 0.17049241]\n",
            "5 day output [[0.1712163]]\n",
            "6 day input [0.1380719  0.13071895 0.13071895 0.12867647 0.11846405 0.14644608\n",
            " 0.14808007 0.15910948 0.15992647 0.15788399 0.16441993 0.17892157\n",
            " 0.17933007 0.19260621 0.20812908 0.18974673 0.18055556 0.18239379\n",
            " 0.17708333 0.17810458 0.18055556 0.17810458 0.17851307 0.19607843\n",
            " 0.18913399 0.18954248 0.19403595 0.19444444 0.20200163 0.19771242\n",
            " 0.19934641 0.19873366 0.1997549  0.2128268  0.21568627 0.20445261\n",
            " 0.21772876 0.21098856 0.21425654 0.19750817 0.18811275 0.17851307\n",
            " 0.17381536 0.16033497 0.16564542 0.17116013 0.17422386 0.18035131\n",
            " 0.17401961 0.16278595 0.16973039 0.17810458 0.17034314 0.16830065\n",
            " 0.17279412 0.17544935 0.18382353 0.19138072 0.18913399 0.19097222\n",
            " 0.17238562 0.16830065 0.1693219  0.17177288 0.16156046 0.14971405\n",
            " 0.1503268  0.15196078 0.14726307 0.14501634 0.14603758 0.12479575\n",
            " 0.13112745 0.11397059 0.1190768  0.12377451 0.13562092 0.12908497\n",
            " 0.13459967 0.12806373 0.13031046 0.12724673 0.13521242 0.14522059\n",
            " 0.15257353 0.14848856 0.14338235 0.14562908 0.15236928 0.15400327\n",
            " 0.14971405 0.1621732  0.16319444 0.16584967 0.16562879 0.1678123\n",
            " 0.16899811 0.16978624 0.17049241 0.17121629]\n",
            "6 day output [[0.17195942]]\n",
            "7 day input [0.13071895 0.13071895 0.12867647 0.11846405 0.14644608 0.14808007\n",
            " 0.15910948 0.15992647 0.15788399 0.16441993 0.17892157 0.17933007\n",
            " 0.19260621 0.20812908 0.18974673 0.18055556 0.18239379 0.17708333\n",
            " 0.17810458 0.18055556 0.17810458 0.17851307 0.19607843 0.18913399\n",
            " 0.18954248 0.19403595 0.19444444 0.20200163 0.19771242 0.19934641\n",
            " 0.19873366 0.1997549  0.2128268  0.21568627 0.20445261 0.21772876\n",
            " 0.21098856 0.21425654 0.19750817 0.18811275 0.17851307 0.17381536\n",
            " 0.16033497 0.16564542 0.17116013 0.17422386 0.18035131 0.17401961\n",
            " 0.16278595 0.16973039 0.17810458 0.17034314 0.16830065 0.17279412\n",
            " 0.17544935 0.18382353 0.19138072 0.18913399 0.19097222 0.17238562\n",
            " 0.16830065 0.1693219  0.17177288 0.16156046 0.14971405 0.1503268\n",
            " 0.15196078 0.14726307 0.14501634 0.14603758 0.12479575 0.13112745\n",
            " 0.11397059 0.1190768  0.12377451 0.13562092 0.12908497 0.13459967\n",
            " 0.12806373 0.13031046 0.12724673 0.13521242 0.14522059 0.15257353\n",
            " 0.14848856 0.14338235 0.14562908 0.15236928 0.15400327 0.14971405\n",
            " 0.1621732  0.16319444 0.16584967 0.16562879 0.1678123  0.16899811\n",
            " 0.16978624 0.17049241 0.17121629 0.17195942]\n",
            "7 day output [[0.17269863]]\n",
            "8 day input [0.13071895 0.12867647 0.11846405 0.14644608 0.14808007 0.15910948\n",
            " 0.15992647 0.15788399 0.16441993 0.17892157 0.17933007 0.19260621\n",
            " 0.20812908 0.18974673 0.18055556 0.18239379 0.17708333 0.17810458\n",
            " 0.18055556 0.17810458 0.17851307 0.19607843 0.18913399 0.18954248\n",
            " 0.19403595 0.19444444 0.20200163 0.19771242 0.19934641 0.19873366\n",
            " 0.1997549  0.2128268  0.21568627 0.20445261 0.21772876 0.21098856\n",
            " 0.21425654 0.19750817 0.18811275 0.17851307 0.17381536 0.16033497\n",
            " 0.16564542 0.17116013 0.17422386 0.18035131 0.17401961 0.16278595\n",
            " 0.16973039 0.17810458 0.17034314 0.16830065 0.17279412 0.17544935\n",
            " 0.18382353 0.19138072 0.18913399 0.19097222 0.17238562 0.16830065\n",
            " 0.1693219  0.17177288 0.16156046 0.14971405 0.1503268  0.15196078\n",
            " 0.14726307 0.14501634 0.14603758 0.12479575 0.13112745 0.11397059\n",
            " 0.1190768  0.12377451 0.13562092 0.12908497 0.13459967 0.12806373\n",
            " 0.13031046 0.12724673 0.13521242 0.14522059 0.15257353 0.14848856\n",
            " 0.14338235 0.14562908 0.15236928 0.15400327 0.14971405 0.1621732\n",
            " 0.16319444 0.16584967 0.16562879 0.1678123  0.16899811 0.16978624\n",
            " 0.17049241 0.17121629 0.17195942 0.17269863]\n",
            "8 day output [[0.17341523]]\n",
            "9 day input [0.12867647 0.11846405 0.14644608 0.14808007 0.15910948 0.15992647\n",
            " 0.15788399 0.16441993 0.17892157 0.17933007 0.19260621 0.20812908\n",
            " 0.18974673 0.18055556 0.18239379 0.17708333 0.17810458 0.18055556\n",
            " 0.17810458 0.17851307 0.19607843 0.18913399 0.18954248 0.19403595\n",
            " 0.19444444 0.20200163 0.19771242 0.19934641 0.19873366 0.1997549\n",
            " 0.2128268  0.21568627 0.20445261 0.21772876 0.21098856 0.21425654\n",
            " 0.19750817 0.18811275 0.17851307 0.17381536 0.16033497 0.16564542\n",
            " 0.17116013 0.17422386 0.18035131 0.17401961 0.16278595 0.16973039\n",
            " 0.17810458 0.17034314 0.16830065 0.17279412 0.17544935 0.18382353\n",
            " 0.19138072 0.18913399 0.19097222 0.17238562 0.16830065 0.1693219\n",
            " 0.17177288 0.16156046 0.14971405 0.1503268  0.15196078 0.14726307\n",
            " 0.14501634 0.14603758 0.12479575 0.13112745 0.11397059 0.1190768\n",
            " 0.12377451 0.13562092 0.12908497 0.13459967 0.12806373 0.13031046\n",
            " 0.12724673 0.13521242 0.14522059 0.15257353 0.14848856 0.14338235\n",
            " 0.14562908 0.15236928 0.15400327 0.14971405 0.1621732  0.16319444\n",
            " 0.16584967 0.16562879 0.1678123  0.16899811 0.16978624 0.17049241\n",
            " 0.17121629 0.17195942 0.17269863 0.17341523]\n",
            "9 day output [[0.17410083]]\n",
            "10 day input [0.11846405 0.14644608 0.14808007 0.15910948 0.15992647 0.15788399\n",
            " 0.16441993 0.17892157 0.17933007 0.19260621 0.20812908 0.18974673\n",
            " 0.18055556 0.18239379 0.17708333 0.17810458 0.18055556 0.17810458\n",
            " 0.17851307 0.19607843 0.18913399 0.18954248 0.19403595 0.19444444\n",
            " 0.20200163 0.19771242 0.19934641 0.19873366 0.1997549  0.2128268\n",
            " 0.21568627 0.20445261 0.21772876 0.21098856 0.21425654 0.19750817\n",
            " 0.18811275 0.17851307 0.17381536 0.16033497 0.16564542 0.17116013\n",
            " 0.17422386 0.18035131 0.17401961 0.16278595 0.16973039 0.17810458\n",
            " 0.17034314 0.16830065 0.17279412 0.17544935 0.18382353 0.19138072\n",
            " 0.18913399 0.19097222 0.17238562 0.16830065 0.1693219  0.17177288\n",
            " 0.16156046 0.14971405 0.1503268  0.15196078 0.14726307 0.14501634\n",
            " 0.14603758 0.12479575 0.13112745 0.11397059 0.1190768  0.12377451\n",
            " 0.13562092 0.12908497 0.13459967 0.12806373 0.13031046 0.12724673\n",
            " 0.13521242 0.14522059 0.15257353 0.14848856 0.14338235 0.14562908\n",
            " 0.15236928 0.15400327 0.14971405 0.1621732  0.16319444 0.16584967\n",
            " 0.16562879 0.1678123  0.16899811 0.16978624 0.17049241 0.17121629\n",
            " 0.17195942 0.17269863 0.17341523 0.17410083]\n",
            "10 day output [[0.17475508]]\n",
            "11 day input [0.14644608 0.14808007 0.15910948 0.15992647 0.15788399 0.16441993\n",
            " 0.17892157 0.17933007 0.19260621 0.20812908 0.18974673 0.18055556\n",
            " 0.18239379 0.17708333 0.17810458 0.18055556 0.17810458 0.17851307\n",
            " 0.19607843 0.18913399 0.18954248 0.19403595 0.19444444 0.20200163\n",
            " 0.19771242 0.19934641 0.19873366 0.1997549  0.2128268  0.21568627\n",
            " 0.20445261 0.21772876 0.21098856 0.21425654 0.19750817 0.18811275\n",
            " 0.17851307 0.17381536 0.16033497 0.16564542 0.17116013 0.17422386\n",
            " 0.18035131 0.17401961 0.16278595 0.16973039 0.17810458 0.17034314\n",
            " 0.16830065 0.17279412 0.17544935 0.18382353 0.19138072 0.18913399\n",
            " 0.19097222 0.17238562 0.16830065 0.1693219  0.17177288 0.16156046\n",
            " 0.14971405 0.1503268  0.15196078 0.14726307 0.14501634 0.14603758\n",
            " 0.12479575 0.13112745 0.11397059 0.1190768  0.12377451 0.13562092\n",
            " 0.12908497 0.13459967 0.12806373 0.13031046 0.12724673 0.13521242\n",
            " 0.14522059 0.15257353 0.14848856 0.14338235 0.14562908 0.15236928\n",
            " 0.15400327 0.14971405 0.1621732  0.16319444 0.16584967 0.16562879\n",
            " 0.1678123  0.16899811 0.16978624 0.17049241 0.17121629 0.17195942\n",
            " 0.17269863 0.17341523 0.17410083 0.17475508]\n",
            "11 day output [[0.17538199]]\n",
            "12 day input [0.14808007 0.15910948 0.15992647 0.15788399 0.16441993 0.17892157\n",
            " 0.17933007 0.19260621 0.20812908 0.18974673 0.18055556 0.18239379\n",
            " 0.17708333 0.17810458 0.18055556 0.17810458 0.17851307 0.19607843\n",
            " 0.18913399 0.18954248 0.19403595 0.19444444 0.20200163 0.19771242\n",
            " 0.19934641 0.19873366 0.1997549  0.2128268  0.21568627 0.20445261\n",
            " 0.21772876 0.21098856 0.21425654 0.19750817 0.18811275 0.17851307\n",
            " 0.17381536 0.16033497 0.16564542 0.17116013 0.17422386 0.18035131\n",
            " 0.17401961 0.16278595 0.16973039 0.17810458 0.17034314 0.16830065\n",
            " 0.17279412 0.17544935 0.18382353 0.19138072 0.18913399 0.19097222\n",
            " 0.17238562 0.16830065 0.1693219  0.17177288 0.16156046 0.14971405\n",
            " 0.1503268  0.15196078 0.14726307 0.14501634 0.14603758 0.12479575\n",
            " 0.13112745 0.11397059 0.1190768  0.12377451 0.13562092 0.12908497\n",
            " 0.13459967 0.12806373 0.13031046 0.12724673 0.13521242 0.14522059\n",
            " 0.15257353 0.14848856 0.14338235 0.14562908 0.15236928 0.15400327\n",
            " 0.14971405 0.1621732  0.16319444 0.16584967 0.16562879 0.1678123\n",
            " 0.16899811 0.16978624 0.17049241 0.17121629 0.17195942 0.17269863\n",
            " 0.17341523 0.17410083 0.17475508 0.17538199]\n",
            "12 day output [[0.17598708]]\n",
            "13 day input [0.15910948 0.15992647 0.15788399 0.16441993 0.17892157 0.17933007\n",
            " 0.19260621 0.20812908 0.18974673 0.18055556 0.18239379 0.17708333\n",
            " 0.17810458 0.18055556 0.17810458 0.17851307 0.19607843 0.18913399\n",
            " 0.18954248 0.19403595 0.19444444 0.20200163 0.19771242 0.19934641\n",
            " 0.19873366 0.1997549  0.2128268  0.21568627 0.20445261 0.21772876\n",
            " 0.21098856 0.21425654 0.19750817 0.18811275 0.17851307 0.17381536\n",
            " 0.16033497 0.16564542 0.17116013 0.17422386 0.18035131 0.17401961\n",
            " 0.16278595 0.16973039 0.17810458 0.17034314 0.16830065 0.17279412\n",
            " 0.17544935 0.18382353 0.19138072 0.18913399 0.19097222 0.17238562\n",
            " 0.16830065 0.1693219  0.17177288 0.16156046 0.14971405 0.1503268\n",
            " 0.15196078 0.14726307 0.14501634 0.14603758 0.12479575 0.13112745\n",
            " 0.11397059 0.1190768  0.12377451 0.13562092 0.12908497 0.13459967\n",
            " 0.12806373 0.13031046 0.12724673 0.13521242 0.14522059 0.15257353\n",
            " 0.14848856 0.14338235 0.14562908 0.15236928 0.15400327 0.14971405\n",
            " 0.1621732  0.16319444 0.16584967 0.16562879 0.1678123  0.16899811\n",
            " 0.16978624 0.17049241 0.17121629 0.17195942 0.17269863 0.17341523\n",
            " 0.17410083 0.17475508 0.17538199 0.17598708]\n",
            "13 day output [[0.17657614]]\n",
            "14 day input [0.15992647 0.15788399 0.16441993 0.17892157 0.17933007 0.19260621\n",
            " 0.20812908 0.18974673 0.18055556 0.18239379 0.17708333 0.17810458\n",
            " 0.18055556 0.17810458 0.17851307 0.19607843 0.18913399 0.18954248\n",
            " 0.19403595 0.19444444 0.20200163 0.19771242 0.19934641 0.19873366\n",
            " 0.1997549  0.2128268  0.21568627 0.20445261 0.21772876 0.21098856\n",
            " 0.21425654 0.19750817 0.18811275 0.17851307 0.17381536 0.16033497\n",
            " 0.16564542 0.17116013 0.17422386 0.18035131 0.17401961 0.16278595\n",
            " 0.16973039 0.17810458 0.17034314 0.16830065 0.17279412 0.17544935\n",
            " 0.18382353 0.19138072 0.18913399 0.19097222 0.17238562 0.16830065\n",
            " 0.1693219  0.17177288 0.16156046 0.14971405 0.1503268  0.15196078\n",
            " 0.14726307 0.14501634 0.14603758 0.12479575 0.13112745 0.11397059\n",
            " 0.1190768  0.12377451 0.13562092 0.12908497 0.13459967 0.12806373\n",
            " 0.13031046 0.12724673 0.13521242 0.14522059 0.15257353 0.14848856\n",
            " 0.14338235 0.14562908 0.15236928 0.15400327 0.14971405 0.1621732\n",
            " 0.16319444 0.16584967 0.16562879 0.1678123  0.16899811 0.16978624\n",
            " 0.17049241 0.17121629 0.17195942 0.17269863 0.17341523 0.17410083\n",
            " 0.17475508 0.17538199 0.17598708 0.17657614]\n",
            "14 day output [[0.17715424]]\n",
            "15 day input [0.15788399 0.16441993 0.17892157 0.17933007 0.19260621 0.20812908\n",
            " 0.18974673 0.18055556 0.18239379 0.17708333 0.17810458 0.18055556\n",
            " 0.17810458 0.17851307 0.19607843 0.18913399 0.18954248 0.19403595\n",
            " 0.19444444 0.20200163 0.19771242 0.19934641 0.19873366 0.1997549\n",
            " 0.2128268  0.21568627 0.20445261 0.21772876 0.21098856 0.21425654\n",
            " 0.19750817 0.18811275 0.17851307 0.17381536 0.16033497 0.16564542\n",
            " 0.17116013 0.17422386 0.18035131 0.17401961 0.16278595 0.16973039\n",
            " 0.17810458 0.17034314 0.16830065 0.17279412 0.17544935 0.18382353\n",
            " 0.19138072 0.18913399 0.19097222 0.17238562 0.16830065 0.1693219\n",
            " 0.17177288 0.16156046 0.14971405 0.1503268  0.15196078 0.14726307\n",
            " 0.14501634 0.14603758 0.12479575 0.13112745 0.11397059 0.1190768\n",
            " 0.12377451 0.13562092 0.12908497 0.13459967 0.12806373 0.13031046\n",
            " 0.12724673 0.13521242 0.14522059 0.15257353 0.14848856 0.14338235\n",
            " 0.14562908 0.15236928 0.15400327 0.14971405 0.1621732  0.16319444\n",
            " 0.16584967 0.16562879 0.1678123  0.16899811 0.16978624 0.17049241\n",
            " 0.17121629 0.17195942 0.17269863 0.17341523 0.17410083 0.17475508\n",
            " 0.17538199 0.17598708 0.17657614 0.17715424]\n",
            "15 day output [[0.17772557]]\n",
            "16 day input [0.16441993 0.17892157 0.17933007 0.19260621 0.20812908 0.18974673\n",
            " 0.18055556 0.18239379 0.17708333 0.17810458 0.18055556 0.17810458\n",
            " 0.17851307 0.19607843 0.18913399 0.18954248 0.19403595 0.19444444\n",
            " 0.20200163 0.19771242 0.19934641 0.19873366 0.1997549  0.2128268\n",
            " 0.21568627 0.20445261 0.21772876 0.21098856 0.21425654 0.19750817\n",
            " 0.18811275 0.17851307 0.17381536 0.16033497 0.16564542 0.17116013\n",
            " 0.17422386 0.18035131 0.17401961 0.16278595 0.16973039 0.17810458\n",
            " 0.17034314 0.16830065 0.17279412 0.17544935 0.18382353 0.19138072\n",
            " 0.18913399 0.19097222 0.17238562 0.16830065 0.1693219  0.17177288\n",
            " 0.16156046 0.14971405 0.1503268  0.15196078 0.14726307 0.14501634\n",
            " 0.14603758 0.12479575 0.13112745 0.11397059 0.1190768  0.12377451\n",
            " 0.13562092 0.12908497 0.13459967 0.12806373 0.13031046 0.12724673\n",
            " 0.13521242 0.14522059 0.15257353 0.14848856 0.14338235 0.14562908\n",
            " 0.15236928 0.15400327 0.14971405 0.1621732  0.16319444 0.16584967\n",
            " 0.16562879 0.1678123  0.16899811 0.16978624 0.17049241 0.17121629\n",
            " 0.17195942 0.17269863 0.17341523 0.17410083 0.17475508 0.17538199\n",
            " 0.17598708 0.17657614 0.17715424 0.17772557]\n",
            "16 day output [[0.1782932]]\n",
            "17 day input [0.17892157 0.17933007 0.19260621 0.20812908 0.18974673 0.18055556\n",
            " 0.18239379 0.17708333 0.17810458 0.18055556 0.17810458 0.17851307\n",
            " 0.19607843 0.18913399 0.18954248 0.19403595 0.19444444 0.20200163\n",
            " 0.19771242 0.19934641 0.19873366 0.1997549  0.2128268  0.21568627\n",
            " 0.20445261 0.21772876 0.21098856 0.21425654 0.19750817 0.18811275\n",
            " 0.17851307 0.17381536 0.16033497 0.16564542 0.17116013 0.17422386\n",
            " 0.18035131 0.17401961 0.16278595 0.16973039 0.17810458 0.17034314\n",
            " 0.16830065 0.17279412 0.17544935 0.18382353 0.19138072 0.18913399\n",
            " 0.19097222 0.17238562 0.16830065 0.1693219  0.17177288 0.16156046\n",
            " 0.14971405 0.1503268  0.15196078 0.14726307 0.14501634 0.14603758\n",
            " 0.12479575 0.13112745 0.11397059 0.1190768  0.12377451 0.13562092\n",
            " 0.12908497 0.13459967 0.12806373 0.13031046 0.12724673 0.13521242\n",
            " 0.14522059 0.15257353 0.14848856 0.14338235 0.14562908 0.15236928\n",
            " 0.15400327 0.14971405 0.1621732  0.16319444 0.16584967 0.16562879\n",
            " 0.1678123  0.16899811 0.16978624 0.17049241 0.17121629 0.17195942\n",
            " 0.17269863 0.17341523 0.17410083 0.17475508 0.17538199 0.17598708\n",
            " 0.17657614 0.17715424 0.17772557 0.1782932 ]\n",
            "17 day output [[0.17885922]]\n",
            "18 day input [0.17933007 0.19260621 0.20812908 0.18974673 0.18055556 0.18239379\n",
            " 0.17708333 0.17810458 0.18055556 0.17810458 0.17851307 0.19607843\n",
            " 0.18913399 0.18954248 0.19403595 0.19444444 0.20200163 0.19771242\n",
            " 0.19934641 0.19873366 0.1997549  0.2128268  0.21568627 0.20445261\n",
            " 0.21772876 0.21098856 0.21425654 0.19750817 0.18811275 0.17851307\n",
            " 0.17381536 0.16033497 0.16564542 0.17116013 0.17422386 0.18035131\n",
            " 0.17401961 0.16278595 0.16973039 0.17810458 0.17034314 0.16830065\n",
            " 0.17279412 0.17544935 0.18382353 0.19138072 0.18913399 0.19097222\n",
            " 0.17238562 0.16830065 0.1693219  0.17177288 0.16156046 0.14971405\n",
            " 0.1503268  0.15196078 0.14726307 0.14501634 0.14603758 0.12479575\n",
            " 0.13112745 0.11397059 0.1190768  0.12377451 0.13562092 0.12908497\n",
            " 0.13459967 0.12806373 0.13031046 0.12724673 0.13521242 0.14522059\n",
            " 0.15257353 0.14848856 0.14338235 0.14562908 0.15236928 0.15400327\n",
            " 0.14971405 0.1621732  0.16319444 0.16584967 0.16562879 0.1678123\n",
            " 0.16899811 0.16978624 0.17049241 0.17121629 0.17195942 0.17269863\n",
            " 0.17341523 0.17410083 0.17475508 0.17538199 0.17598708 0.17657614\n",
            " 0.17715424 0.17772557 0.1782932  0.17885922]\n",
            "18 day output [[0.17942505]]\n",
            "19 day input [0.19260621 0.20812908 0.18974673 0.18055556 0.18239379 0.17708333\n",
            " 0.17810458 0.18055556 0.17810458 0.17851307 0.19607843 0.18913399\n",
            " 0.18954248 0.19403595 0.19444444 0.20200163 0.19771242 0.19934641\n",
            " 0.19873366 0.1997549  0.2128268  0.21568627 0.20445261 0.21772876\n",
            " 0.21098856 0.21425654 0.19750817 0.18811275 0.17851307 0.17381536\n",
            " 0.16033497 0.16564542 0.17116013 0.17422386 0.18035131 0.17401961\n",
            " 0.16278595 0.16973039 0.17810458 0.17034314 0.16830065 0.17279412\n",
            " 0.17544935 0.18382353 0.19138072 0.18913399 0.19097222 0.17238562\n",
            " 0.16830065 0.1693219  0.17177288 0.16156046 0.14971405 0.1503268\n",
            " 0.15196078 0.14726307 0.14501634 0.14603758 0.12479575 0.13112745\n",
            " 0.11397059 0.1190768  0.12377451 0.13562092 0.12908497 0.13459967\n",
            " 0.12806373 0.13031046 0.12724673 0.13521242 0.14522059 0.15257353\n",
            " 0.14848856 0.14338235 0.14562908 0.15236928 0.15400327 0.14971405\n",
            " 0.1621732  0.16319444 0.16584967 0.16562879 0.1678123  0.16899811\n",
            " 0.16978624 0.17049241 0.17121629 0.17195942 0.17269863 0.17341523\n",
            " 0.17410083 0.17475508 0.17538199 0.17598708 0.17657614 0.17715424\n",
            " 0.17772557 0.1782932  0.17885922 0.17942505]\n",
            "19 day output [[0.17999123]]\n",
            "20 day input [0.20812908 0.18974673 0.18055556 0.18239379 0.17708333 0.17810458\n",
            " 0.18055556 0.17810458 0.17851307 0.19607843 0.18913399 0.18954248\n",
            " 0.19403595 0.19444444 0.20200163 0.19771242 0.19934641 0.19873366\n",
            " 0.1997549  0.2128268  0.21568627 0.20445261 0.21772876 0.21098856\n",
            " 0.21425654 0.19750817 0.18811275 0.17851307 0.17381536 0.16033497\n",
            " 0.16564542 0.17116013 0.17422386 0.18035131 0.17401961 0.16278595\n",
            " 0.16973039 0.17810458 0.17034314 0.16830065 0.17279412 0.17544935\n",
            " 0.18382353 0.19138072 0.18913399 0.19097222 0.17238562 0.16830065\n",
            " 0.1693219  0.17177288 0.16156046 0.14971405 0.1503268  0.15196078\n",
            " 0.14726307 0.14501634 0.14603758 0.12479575 0.13112745 0.11397059\n",
            " 0.1190768  0.12377451 0.13562092 0.12908497 0.13459967 0.12806373\n",
            " 0.13031046 0.12724673 0.13521242 0.14522059 0.15257353 0.14848856\n",
            " 0.14338235 0.14562908 0.15236928 0.15400327 0.14971405 0.1621732\n",
            " 0.16319444 0.16584967 0.16562879 0.1678123  0.16899811 0.16978624\n",
            " 0.17049241 0.17121629 0.17195942 0.17269863 0.17341523 0.17410083\n",
            " 0.17475508 0.17538199 0.17598708 0.17657614 0.17715424 0.17772557\n",
            " 0.1782932  0.17885922 0.17942505 0.17999123]\n",
            "20 day output [[0.18055795]]\n",
            "21 day input [0.18974673 0.18055556 0.18239379 0.17708333 0.17810458 0.18055556\n",
            " 0.17810458 0.17851307 0.19607843 0.18913399 0.18954248 0.19403595\n",
            " 0.19444444 0.20200163 0.19771242 0.19934641 0.19873366 0.1997549\n",
            " 0.2128268  0.21568627 0.20445261 0.21772876 0.21098856 0.21425654\n",
            " 0.19750817 0.18811275 0.17851307 0.17381536 0.16033497 0.16564542\n",
            " 0.17116013 0.17422386 0.18035131 0.17401961 0.16278595 0.16973039\n",
            " 0.17810458 0.17034314 0.16830065 0.17279412 0.17544935 0.18382353\n",
            " 0.19138072 0.18913399 0.19097222 0.17238562 0.16830065 0.1693219\n",
            " 0.17177288 0.16156046 0.14971405 0.1503268  0.15196078 0.14726307\n",
            " 0.14501634 0.14603758 0.12479575 0.13112745 0.11397059 0.1190768\n",
            " 0.12377451 0.13562092 0.12908497 0.13459967 0.12806373 0.13031046\n",
            " 0.12724673 0.13521242 0.14522059 0.15257353 0.14848856 0.14338235\n",
            " 0.14562908 0.15236928 0.15400327 0.14971405 0.1621732  0.16319444\n",
            " 0.16584967 0.16562879 0.1678123  0.16899811 0.16978624 0.17049241\n",
            " 0.17121629 0.17195942 0.17269863 0.17341523 0.17410083 0.17475508\n",
            " 0.17538199 0.17598708 0.17657614 0.17715424 0.17772557 0.1782932\n",
            " 0.17885922 0.17942505 0.17999123 0.18055795]\n",
            "21 day output [[0.18112504]]\n",
            "22 day input [0.18055556 0.18239379 0.17708333 0.17810458 0.18055556 0.17810458\n",
            " 0.17851307 0.19607843 0.18913399 0.18954248 0.19403595 0.19444444\n",
            " 0.20200163 0.19771242 0.19934641 0.19873366 0.1997549  0.2128268\n",
            " 0.21568627 0.20445261 0.21772876 0.21098856 0.21425654 0.19750817\n",
            " 0.18811275 0.17851307 0.17381536 0.16033497 0.16564542 0.17116013\n",
            " 0.17422386 0.18035131 0.17401961 0.16278595 0.16973039 0.17810458\n",
            " 0.17034314 0.16830065 0.17279412 0.17544935 0.18382353 0.19138072\n",
            " 0.18913399 0.19097222 0.17238562 0.16830065 0.1693219  0.17177288\n",
            " 0.16156046 0.14971405 0.1503268  0.15196078 0.14726307 0.14501634\n",
            " 0.14603758 0.12479575 0.13112745 0.11397059 0.1190768  0.12377451\n",
            " 0.13562092 0.12908497 0.13459967 0.12806373 0.13031046 0.12724673\n",
            " 0.13521242 0.14522059 0.15257353 0.14848856 0.14338235 0.14562908\n",
            " 0.15236928 0.15400327 0.14971405 0.1621732  0.16319444 0.16584967\n",
            " 0.16562879 0.1678123  0.16899811 0.16978624 0.17049241 0.17121629\n",
            " 0.17195942 0.17269863 0.17341523 0.17410083 0.17475508 0.17538199\n",
            " 0.17598708 0.17657614 0.17715424 0.17772557 0.1782932  0.17885922\n",
            " 0.17942505 0.17999123 0.18055795 0.18112504]\n",
            "22 day output [[0.18169205]]\n",
            "23 day input [0.18239379 0.17708333 0.17810458 0.18055556 0.17810458 0.17851307\n",
            " 0.19607843 0.18913399 0.18954248 0.19403595 0.19444444 0.20200163\n",
            " 0.19771242 0.19934641 0.19873366 0.1997549  0.2128268  0.21568627\n",
            " 0.20445261 0.21772876 0.21098856 0.21425654 0.19750817 0.18811275\n",
            " 0.17851307 0.17381536 0.16033497 0.16564542 0.17116013 0.17422386\n",
            " 0.18035131 0.17401961 0.16278595 0.16973039 0.17810458 0.17034314\n",
            " 0.16830065 0.17279412 0.17544935 0.18382353 0.19138072 0.18913399\n",
            " 0.19097222 0.17238562 0.16830065 0.1693219  0.17177288 0.16156046\n",
            " 0.14971405 0.1503268  0.15196078 0.14726307 0.14501634 0.14603758\n",
            " 0.12479575 0.13112745 0.11397059 0.1190768  0.12377451 0.13562092\n",
            " 0.12908497 0.13459967 0.12806373 0.13031046 0.12724673 0.13521242\n",
            " 0.14522059 0.15257353 0.14848856 0.14338235 0.14562908 0.15236928\n",
            " 0.15400327 0.14971405 0.1621732  0.16319444 0.16584967 0.16562879\n",
            " 0.1678123  0.16899811 0.16978624 0.17049241 0.17121629 0.17195942\n",
            " 0.17269863 0.17341523 0.17410083 0.17475508 0.17538199 0.17598708\n",
            " 0.17657614 0.17715424 0.17772557 0.1782932  0.17885922 0.17942505\n",
            " 0.17999123 0.18055795 0.18112504 0.18169205]\n",
            "23 day output [[0.18225828]]\n",
            "24 day input [0.17708333 0.17810458 0.18055556 0.17810458 0.17851307 0.19607843\n",
            " 0.18913399 0.18954248 0.19403595 0.19444444 0.20200163 0.19771242\n",
            " 0.19934641 0.19873366 0.1997549  0.2128268  0.21568627 0.20445261\n",
            " 0.21772876 0.21098856 0.21425654 0.19750817 0.18811275 0.17851307\n",
            " 0.17381536 0.16033497 0.16564542 0.17116013 0.17422386 0.18035131\n",
            " 0.17401961 0.16278595 0.16973039 0.17810458 0.17034314 0.16830065\n",
            " 0.17279412 0.17544935 0.18382353 0.19138072 0.18913399 0.19097222\n",
            " 0.17238562 0.16830065 0.1693219  0.17177288 0.16156046 0.14971405\n",
            " 0.1503268  0.15196078 0.14726307 0.14501634 0.14603758 0.12479575\n",
            " 0.13112745 0.11397059 0.1190768  0.12377451 0.13562092 0.12908497\n",
            " 0.13459967 0.12806373 0.13031046 0.12724673 0.13521242 0.14522059\n",
            " 0.15257353 0.14848856 0.14338235 0.14562908 0.15236928 0.15400327\n",
            " 0.14971405 0.1621732  0.16319444 0.16584967 0.16562879 0.1678123\n",
            " 0.16899811 0.16978624 0.17049241 0.17121629 0.17195942 0.17269863\n",
            " 0.17341523 0.17410083 0.17475508 0.17538199 0.17598708 0.17657614\n",
            " 0.17715424 0.17772557 0.1782932  0.17885922 0.17942505 0.17999123\n",
            " 0.18055795 0.18112504 0.18169205 0.18225828]\n",
            "24 day output [[0.18282312]]\n",
            "25 day input [0.17810458 0.18055556 0.17810458 0.17851307 0.19607843 0.18913399\n",
            " 0.18954248 0.19403595 0.19444444 0.20200163 0.19771242 0.19934641\n",
            " 0.19873366 0.1997549  0.2128268  0.21568627 0.20445261 0.21772876\n",
            " 0.21098856 0.21425654 0.19750817 0.18811275 0.17851307 0.17381536\n",
            " 0.16033497 0.16564542 0.17116013 0.17422386 0.18035131 0.17401961\n",
            " 0.16278595 0.16973039 0.17810458 0.17034314 0.16830065 0.17279412\n",
            " 0.17544935 0.18382353 0.19138072 0.18913399 0.19097222 0.17238562\n",
            " 0.16830065 0.1693219  0.17177288 0.16156046 0.14971405 0.1503268\n",
            " 0.15196078 0.14726307 0.14501634 0.14603758 0.12479575 0.13112745\n",
            " 0.11397059 0.1190768  0.12377451 0.13562092 0.12908497 0.13459967\n",
            " 0.12806373 0.13031046 0.12724673 0.13521242 0.14522059 0.15257353\n",
            " 0.14848856 0.14338235 0.14562908 0.15236928 0.15400327 0.14971405\n",
            " 0.1621732  0.16319444 0.16584967 0.16562879 0.1678123  0.16899811\n",
            " 0.16978624 0.17049241 0.17121629 0.17195942 0.17269863 0.17341523\n",
            " 0.17410083 0.17475508 0.17538199 0.17598708 0.17657614 0.17715424\n",
            " 0.17772557 0.1782932  0.17885922 0.17942505 0.17999123 0.18055795\n",
            " 0.18112504 0.18169205 0.18225828 0.18282312]\n",
            "25 day output [[0.18338569]]\n",
            "26 day input [0.18055556 0.17810458 0.17851307 0.19607843 0.18913399 0.18954248\n",
            " 0.19403595 0.19444444 0.20200163 0.19771242 0.19934641 0.19873366\n",
            " 0.1997549  0.2128268  0.21568627 0.20445261 0.21772876 0.21098856\n",
            " 0.21425654 0.19750817 0.18811275 0.17851307 0.17381536 0.16033497\n",
            " 0.16564542 0.17116013 0.17422386 0.18035131 0.17401961 0.16278595\n",
            " 0.16973039 0.17810458 0.17034314 0.16830065 0.17279412 0.17544935\n",
            " 0.18382353 0.19138072 0.18913399 0.19097222 0.17238562 0.16830065\n",
            " 0.1693219  0.17177288 0.16156046 0.14971405 0.1503268  0.15196078\n",
            " 0.14726307 0.14501634 0.14603758 0.12479575 0.13112745 0.11397059\n",
            " 0.1190768  0.12377451 0.13562092 0.12908497 0.13459967 0.12806373\n",
            " 0.13031046 0.12724673 0.13521242 0.14522059 0.15257353 0.14848856\n",
            " 0.14338235 0.14562908 0.15236928 0.15400327 0.14971405 0.1621732\n",
            " 0.16319444 0.16584967 0.16562879 0.1678123  0.16899811 0.16978624\n",
            " 0.17049241 0.17121629 0.17195942 0.17269863 0.17341523 0.17410083\n",
            " 0.17475508 0.17538199 0.17598708 0.17657614 0.17715424 0.17772557\n",
            " 0.1782932  0.17885922 0.17942505 0.17999123 0.18055795 0.18112504\n",
            " 0.18169205 0.18225828 0.18282312 0.18338569]\n",
            "26 day output [[0.18394515]]\n",
            "27 day input [0.17810458 0.17851307 0.19607843 0.18913399 0.18954248 0.19403595\n",
            " 0.19444444 0.20200163 0.19771242 0.19934641 0.19873366 0.1997549\n",
            " 0.2128268  0.21568627 0.20445261 0.21772876 0.21098856 0.21425654\n",
            " 0.19750817 0.18811275 0.17851307 0.17381536 0.16033497 0.16564542\n",
            " 0.17116013 0.17422386 0.18035131 0.17401961 0.16278595 0.16973039\n",
            " 0.17810458 0.17034314 0.16830065 0.17279412 0.17544935 0.18382353\n",
            " 0.19138072 0.18913399 0.19097222 0.17238562 0.16830065 0.1693219\n",
            " 0.17177288 0.16156046 0.14971405 0.1503268  0.15196078 0.14726307\n",
            " 0.14501634 0.14603758 0.12479575 0.13112745 0.11397059 0.1190768\n",
            " 0.12377451 0.13562092 0.12908497 0.13459967 0.12806373 0.13031046\n",
            " 0.12724673 0.13521242 0.14522059 0.15257353 0.14848856 0.14338235\n",
            " 0.14562908 0.15236928 0.15400327 0.14971405 0.1621732  0.16319444\n",
            " 0.16584967 0.16562879 0.1678123  0.16899811 0.16978624 0.17049241\n",
            " 0.17121629 0.17195942 0.17269863 0.17341523 0.17410083 0.17475508\n",
            " 0.17538199 0.17598708 0.17657614 0.17715424 0.17772557 0.1782932\n",
            " 0.17885922 0.17942505 0.17999123 0.18055795 0.18112504 0.18169205\n",
            " 0.18225828 0.18282312 0.18338569 0.18394515]\n",
            "27 day output [[0.18450074]]\n",
            "28 day input [0.17851307 0.19607843 0.18913399 0.18954248 0.19403595 0.19444444\n",
            " 0.20200163 0.19771242 0.19934641 0.19873366 0.1997549  0.2128268\n",
            " 0.21568627 0.20445261 0.21772876 0.21098856 0.21425654 0.19750817\n",
            " 0.18811275 0.17851307 0.17381536 0.16033497 0.16564542 0.17116013\n",
            " 0.17422386 0.18035131 0.17401961 0.16278595 0.16973039 0.17810458\n",
            " 0.17034314 0.16830065 0.17279412 0.17544935 0.18382353 0.19138072\n",
            " 0.18913399 0.19097222 0.17238562 0.16830065 0.1693219  0.17177288\n",
            " 0.16156046 0.14971405 0.1503268  0.15196078 0.14726307 0.14501634\n",
            " 0.14603758 0.12479575 0.13112745 0.11397059 0.1190768  0.12377451\n",
            " 0.13562092 0.12908497 0.13459967 0.12806373 0.13031046 0.12724673\n",
            " 0.13521242 0.14522059 0.15257353 0.14848856 0.14338235 0.14562908\n",
            " 0.15236928 0.15400327 0.14971405 0.1621732  0.16319444 0.16584967\n",
            " 0.16562879 0.1678123  0.16899811 0.16978624 0.17049241 0.17121629\n",
            " 0.17195942 0.17269863 0.17341523 0.17410083 0.17475508 0.17538199\n",
            " 0.17598708 0.17657614 0.17715424 0.17772557 0.1782932  0.17885922\n",
            " 0.17942505 0.17999123 0.18055795 0.18112504 0.18169205 0.18225828\n",
            " 0.18282312 0.18338569 0.18394515 0.18450074]\n",
            "28 day output [[0.18505171]]\n",
            "29 day input [0.19607843 0.18913399 0.18954248 0.19403595 0.19444444 0.20200163\n",
            " 0.19771242 0.19934641 0.19873366 0.1997549  0.2128268  0.21568627\n",
            " 0.20445261 0.21772876 0.21098856 0.21425654 0.19750817 0.18811275\n",
            " 0.17851307 0.17381536 0.16033497 0.16564542 0.17116013 0.17422386\n",
            " 0.18035131 0.17401961 0.16278595 0.16973039 0.17810458 0.17034314\n",
            " 0.16830065 0.17279412 0.17544935 0.18382353 0.19138072 0.18913399\n",
            " 0.19097222 0.17238562 0.16830065 0.1693219  0.17177288 0.16156046\n",
            " 0.14971405 0.1503268  0.15196078 0.14726307 0.14501634 0.14603758\n",
            " 0.12479575 0.13112745 0.11397059 0.1190768  0.12377451 0.13562092\n",
            " 0.12908497 0.13459967 0.12806373 0.13031046 0.12724673 0.13521242\n",
            " 0.14522059 0.15257353 0.14848856 0.14338235 0.14562908 0.15236928\n",
            " 0.15400327 0.14971405 0.1621732  0.16319444 0.16584967 0.16562879\n",
            " 0.1678123  0.16899811 0.16978624 0.17049241 0.17121629 0.17195942\n",
            " 0.17269863 0.17341523 0.17410083 0.17475508 0.17538199 0.17598708\n",
            " 0.17657614 0.17715424 0.17772557 0.1782932  0.17885922 0.17942505\n",
            " 0.17999123 0.18055795 0.18112504 0.18169205 0.18225828 0.18282312\n",
            " 0.18338569 0.18394515 0.18450074 0.18505171]\n",
            "29 day output [[0.18559724]]\n"
          ]
        }
      ]
    },
    {
      "cell_type": "code",
      "metadata": {
        "id": "wP1-be3LHMGz"
      },
      "source": [
        "day_new=np.arange(1,164)\n",
        "day_pred=np.arange(144,174)"
      ],
      "execution_count": null,
      "outputs": []
    },
    {
      "cell_type": "code",
      "metadata": {
        "colab": {
          "base_uri": "https://localhost:8080/",
          "height": 283
        },
        "id": "WqeQjoB6HSP7",
        "outputId": "b6bf144a-86ef-4b6a-df86-cbccc7c76a1a"
      },
      "source": [
        "plt.plot(day_new,scaler.inverse_transform(df1[1872:]))\n",
        "plt.plot(day_pred,scaler.inverse_transform(lst_output))"
      ],
      "execution_count": null,
      "outputs": [
        {
          "output_type": "execute_result",
          "data": {
            "text/plain": [
              "[<matplotlib.lines.Line2D at 0x7febadbcb890>]"
            ]
          },
          "metadata": {},
          "execution_count": 30
        },
        {
          "output_type": "display_data",
          "data": {
            "image/png": "[encoded data removed]",
            "text/plain": [
              "<Figure size 432x288 with 1 Axes>"
            ]
          },
          "metadata": {
            "needs_background": "light"
          }
        }
      ]
    },
    {
      "cell_type": "code",
      "metadata": {
        "colab": {
          "base_uri": "https://localhost:8080/",
          "height": 283
        },
        "id": "WnOGEMc5HVGr",
        "outputId": "489adda0-f0e8-47c4-f65c-08b09e9dbb29"
      },
      "source": [
        "df3=df1.tolist()\n",
        "df3.extend(lst_output)\n",
        "plt.plot(df3[2000:])"
      ],
      "execution_count": null,
      "outputs": [
        {
          "output_type": "execute_result",
          "data": {
            "text/plain": [
              "[<matplotlib.lines.Line2D at 0x7febadc0d150>]"
            ]
          },
          "metadata": {},
          "execution_count": 31
        },
        {
          "output_type": "display_data",
          "data": {
            "image/png": "[encoded data removed]",
            "text/plain": [
              "<Figure size 432x288 with 1 Axes>"
            ]
          },
          "metadata": {
            "needs_background": "light"
          }
        }
      ]
    },
    {
      "cell_type": "code",
      "metadata": {
        "colab": {
          "base_uri": "https://localhost:8080/",
          "height": 283
        },
        "id": "DC3r7n2GHaTj",
        "outputId": "c783bf0f-c3bd-4571-e359-7436c48f4286"
      },
      "source": [
        "df3=scaler.inverse_transform(df3).tolist()\n",
        "plt.plot(df3)"
      ],
      "execution_count": null,
      "outputs": [
        {
          "output_type": "execute_result",
          "data": {
            "text/plain": [
              "[<matplotlib.lines.Line2D at 0x7febadbf6110>]"
            ]
          },
          "metadata": {},
          "execution_count": 32
        },
        {
          "output_type": "display_data",
          "data": {
            "image/png": "[encoded data removed]",
            "text/plain": [
              "<Figure size 432x288 with 1 Axes>"
            ]
          },
          "metadata": {
            "needs_background": "light"
          }
        }
      ]
    },
    {
      "cell_type": "code",
      "metadata": {
        "id": "UNPLkxKBHdf3"
      },
      "source": [
        ""
      ],
      "execution_count": null,
      "outputs": []
    }
  ]
}